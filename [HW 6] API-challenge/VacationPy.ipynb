{
 "cells": [
  {
   "cell_type": "markdown",
   "metadata": {},
   "source": [
    "# VacationPy\n",
    "----\n",
    "\n",
    "#### Note\n",
    "* Instructions have been included for each segment. You do not have to follow them exactly, but they are included to help you think through the steps."
   ]
  },
  {
   "cell_type": "code",
   "execution_count": 1,
   "metadata": {},
   "outputs": [],
   "source": [
    "# Dependencies and Setup\n",
    "import matplotlib.pyplot as plt\n",
    "import pandas as pd\n",
    "import numpy as np\n",
    "import requests\n",
    "import gmaps\n",
    "import os\n",
    "\n",
    "# Import API key\n",
    "from api_keys import g_key"
   ]
  },
  {
   "cell_type": "markdown",
   "metadata": {},
   "source": [
    "### Store Part I results into DataFrame\n",
    "* Load the csv exported in Part I to a DataFrame"
   ]
  },
  {
   "cell_type": "code",
   "execution_count": 4,
   "metadata": {},
   "outputs": [
    {
     "data": {
      "text/html": [
       "<div>\n",
       "<style scoped>\n",
       "    .dataframe tbody tr th:only-of-type {\n",
       "        vertical-align: middle;\n",
       "    }\n",
       "\n",
       "    .dataframe tbody tr th {\n",
       "        vertical-align: top;\n",
       "    }\n",
       "\n",
       "    .dataframe thead th {\n",
       "        text-align: right;\n",
       "    }\n",
       "</style>\n",
       "<table border=\"1\" class=\"dataframe\">\n",
       "  <thead>\n",
       "    <tr style=\"text-align: right;\">\n",
       "      <th></th>\n",
       "      <th>Unnamed: 0</th>\n",
       "      <th>City</th>\n",
       "      <th>Lat</th>\n",
       "      <th>Lng</th>\n",
       "      <th>Max Temp</th>\n",
       "      <th>Humidity</th>\n",
       "      <th>Cloudiness</th>\n",
       "      <th>Wind Speed</th>\n",
       "      <th>Country</th>\n",
       "      <th>Date</th>\n",
       "    </tr>\n",
       "  </thead>\n",
       "  <tbody>\n",
       "    <tr>\n",
       "      <th>0</th>\n",
       "      <td>0</td>\n",
       "      <td>Ancud</td>\n",
       "      <td>-41.87</td>\n",
       "      <td>-73.82</td>\n",
       "      <td>37.99</td>\n",
       "      <td>73</td>\n",
       "      <td>20</td>\n",
       "      <td>4.68</td>\n",
       "      <td>CL</td>\n",
       "      <td>1595823390</td>\n",
       "    </tr>\n",
       "    <tr>\n",
       "      <th>1</th>\n",
       "      <td>1</td>\n",
       "      <td>New Norfolk</td>\n",
       "      <td>-42.78</td>\n",
       "      <td>147.06</td>\n",
       "      <td>55.99</td>\n",
       "      <td>72</td>\n",
       "      <td>100</td>\n",
       "      <td>1.99</td>\n",
       "      <td>AU</td>\n",
       "      <td>1595823507</td>\n",
       "    </tr>\n",
       "    <tr>\n",
       "      <th>2</th>\n",
       "      <td>2</td>\n",
       "      <td>Kontagora</td>\n",
       "      <td>10.40</td>\n",
       "      <td>5.47</td>\n",
       "      <td>71.47</td>\n",
       "      <td>96</td>\n",
       "      <td>92</td>\n",
       "      <td>6.42</td>\n",
       "      <td>NG</td>\n",
       "      <td>1595823507</td>\n",
       "    </tr>\n",
       "    <tr>\n",
       "      <th>3</th>\n",
       "      <td>3</td>\n",
       "      <td>Bluff</td>\n",
       "      <td>-46.60</td>\n",
       "      <td>168.33</td>\n",
       "      <td>50.86</td>\n",
       "      <td>71</td>\n",
       "      <td>0</td>\n",
       "      <td>4.50</td>\n",
       "      <td>NZ</td>\n",
       "      <td>1595823224</td>\n",
       "    </tr>\n",
       "    <tr>\n",
       "      <th>4</th>\n",
       "      <td>4</td>\n",
       "      <td>Avarua</td>\n",
       "      <td>-21.21</td>\n",
       "      <td>-159.78</td>\n",
       "      <td>69.80</td>\n",
       "      <td>94</td>\n",
       "      <td>66</td>\n",
       "      <td>4.70</td>\n",
       "      <td>CK</td>\n",
       "      <td>1595823292</td>\n",
       "    </tr>\n",
       "  </tbody>\n",
       "</table>\n",
       "</div>"
      ],
      "text/plain": [
       "   Unnamed: 0         City    Lat     Lng  Max Temp  Humidity  Cloudiness  \\\n",
       "0           0        Ancud -41.87  -73.82     37.99        73          20   \n",
       "1           1  New Norfolk -42.78  147.06     55.99        72         100   \n",
       "2           2    Kontagora  10.40    5.47     71.47        96          92   \n",
       "3           3        Bluff -46.60  168.33     50.86        71           0   \n",
       "4           4       Avarua -21.21 -159.78     69.80        94          66   \n",
       "\n",
       "   Wind Speed Country        Date  \n",
       "0        4.68      CL  1595823390  \n",
       "1        1.99      AU  1595823507  \n",
       "2        6.42      NG  1595823507  \n",
       "3        4.50      NZ  1595823224  \n",
       "4        4.70      CK  1595823292  "
      ]
     },
     "execution_count": 4,
     "metadata": {},
     "output_type": "execute_result"
    }
   ],
   "source": [
    "weatherdata = pd.read_csv(\"output_data/Weather Data.csv\")\n",
    "weatherdata.head()"
   ]
  },
  {
   "cell_type": "markdown",
   "metadata": {},
   "source": [
    "### Humidity Heatmap\n",
    "* Configure gmaps.\n",
    "* Use the Lat and Lng as locations and Humidity as the weight.\n",
    "* Add Heatmap layer to map."
   ]
  },
  {
   "cell_type": "code",
   "execution_count": 4,
   "metadata": {},
   "outputs": [],
   "source": [
    "gmaps.configure(api_key=g_key)"
   ]
  },
  {
   "cell_type": "code",
   "execution_count": 16,
   "metadata": {},
   "outputs": [
    {
     "data": {
      "application/vnd.jupyter.widget-view+json": {
       "model_id": "4d3d3699037a4263b5152bc71cae23e0",
       "version_major": 2,
       "version_minor": 0
      },
      "text/plain": [
       "Figure(layout=FigureLayout(height='420px'))"
      ]
     },
     "metadata": {},
     "output_type": "display_data"
    }
   ],
   "source": [
    "locations = weatherdata[[\"Lat\", \"Lng\"]].astype(float)\n",
    "humidity = weatherdata[\"Humidity\"].astype(float)\n",
    "\n",
    "fig = gmaps.figure()\n",
    "\n",
    "heat_layer = gmaps.heatmap_layer(locations, weights=humidity, \n",
    "                                 dissipating=False, max_intensity=100,\n",
    "                                 point_radius = 2)\n",
    "\n",
    "fig.add_layer(heat_layer)\n",
    "\n",
    "fig"
   ]
  },
  {
   "cell_type": "markdown",
   "metadata": {},
   "source": [
    "### Create new DataFrame fitting weather criteria\n",
    "* Narrow down the cities to fit weather conditions.\n",
    "* Drop any rows will null values."
   ]
  },
  {
   "cell_type": "code",
   "execution_count": 107,
   "metadata": {},
   "outputs": [
    {
     "data": {
      "text/plain": [
       "City          19\n",
       "Lat           19\n",
       "Lng           19\n",
       "Max Temp      19\n",
       "Humidity      19\n",
       "Cloudiness    19\n",
       "Wind Speed    19\n",
       "Country       19\n",
       "Date          19\n",
       "dtype: int64"
      ]
     },
     "execution_count": 107,
     "metadata": {},
     "output_type": "execute_result"
    }
   ],
   "source": [
    "hotel_df = weatherdata.loc[(weatherdata[\"Max Temp\"] > 70) & (weatherdata[\"Max Temp\"] < 80) & (weatherdata[\"Humidity\"] > 50) & (weatherdata[\"Humidity\"] < 65), :]\n",
    "hotel_df = hotel_df.drop(columns = \"Unnamed: 0\")\n",
    "hotel_df = hotel_df.reset_index(drop = True)\n",
    "hotel_df.count()"
   ]
  },
  {
   "cell_type": "markdown",
   "metadata": {},
   "source": [
    "### Hotel Map\n",
    "* Store into variable named `hotel_df`.\n",
    "* Add a \"Hotel Name\" column to the DataFrame.\n",
    "* Set parameters to search for hotels with 5000 meters.\n",
    "* Hit the Google Places API for each city's coordinates.\n",
    "* Store the first Hotel result into the DataFrame.\n",
    "* Plot markers on top of the heatmap."
   ]
  },
  {
   "cell_type": "code",
   "execution_count": 108,
   "metadata": {},
   "outputs": [
    {
     "name": "stdout",
     "output_type": "stream",
     "text": [
      "No hotels found near Berdigestyakh.\n",
      "No hotels found near Airai.\n",
      "No hotels found near Matamoros.\n",
      "No hotels found near Marzuq.\n",
      "No hotels found near Alaca.\n",
      "No hotels found near Ust-Tsilma.\n",
      "No hotels found near Beringovskiy.\n"
     ]
    }
   ],
   "source": [
    "hotel_df[\"Hotel Name\"] = \"\"\n",
    "# geocoordinates\n",
    "# base url\n",
    "base_url = \"https://maps.googleapis.com/maps/api/place/nearbysearch/json\"\n",
    "\n",
    "for index, row in hotel_df.iterrows():\n",
    "    target_coordinates = f\"{row['Lat']}, {row['Lng']}\"\n",
    "    target_search = \"hotel\"\n",
    "    target_radius = 5000\n",
    "    target_type = \"hotel\"\n",
    "\n",
    "    # set up a parameters dictionary\n",
    "    params = {\n",
    "        \"location\": target_coordinates,\n",
    "        \"keyword\": target_search,\n",
    "        \"radius\": target_radius,\n",
    "        \"type\": target_type,\n",
    "        \"key\": g_key}\n",
    "\n",
    "    # run a request using our params dictionary\n",
    "    try:\n",
    "        response = requests.get(base_url, params=params).json()\n",
    "        hotel_df.loc[index, \"Hotel Name\"] = response[\"results\"][0][\"name\"]\n",
    "        \n",
    "    except:\n",
    "        print(f\"No hotels found near {row['City']}.\")\n",
    "        pass"
   ]
  },
  {
   "cell_type": "code",
   "execution_count": 109,
   "metadata": {},
   "outputs": [],
   "source": [
    "hotel_df[\"Hotel Name\"].replace(\"\", np.nan, inplace = True)\n",
    "hotel_df.dropna(subset = [\"Hotel Name\"], inplace=True)\n",
    "hotel_df = hotel_df.drop([0,13])"
   ]
  },
  {
   "cell_type": "code",
   "execution_count": 114,
   "metadata": {},
   "outputs": [
    {
     "data": {
      "text/html": [
       "<div>\n",
       "<style scoped>\n",
       "    .dataframe tbody tr th:only-of-type {\n",
       "        vertical-align: middle;\n",
       "    }\n",
       "\n",
       "    .dataframe tbody tr th {\n",
       "        vertical-align: top;\n",
       "    }\n",
       "\n",
       "    .dataframe thead th {\n",
       "        text-align: right;\n",
       "    }\n",
       "</style>\n",
       "<table border=\"1\" class=\"dataframe\">\n",
       "  <thead>\n",
       "    <tr style=\"text-align: right;\">\n",
       "      <th></th>\n",
       "      <th>City</th>\n",
       "      <th>Lat</th>\n",
       "      <th>Lng</th>\n",
       "      <th>Max Temp</th>\n",
       "      <th>Humidity</th>\n",
       "      <th>Cloudiness</th>\n",
       "      <th>Wind Speed</th>\n",
       "      <th>Country</th>\n",
       "      <th>Date</th>\n",
       "      <th>Hotel Name</th>\n",
       "    </tr>\n",
       "  </thead>\n",
       "  <tbody>\n",
       "    <tr>\n",
       "      <th>0</th>\n",
       "      <td>Belaya Glina</td>\n",
       "      <td>46.07</td>\n",
       "      <td>40.86</td>\n",
       "      <td>71.20</td>\n",
       "      <td>59</td>\n",
       "      <td>58</td>\n",
       "      <td>12.35</td>\n",
       "      <td>RU</td>\n",
       "      <td>1595823531</td>\n",
       "      <td>Niva</td>\n",
       "    </tr>\n",
       "    <tr>\n",
       "      <th>1</th>\n",
       "      <td>Kainantu</td>\n",
       "      <td>-6.29</td>\n",
       "      <td>145.87</td>\n",
       "      <td>74.70</td>\n",
       "      <td>61</td>\n",
       "      <td>28</td>\n",
       "      <td>5.28</td>\n",
       "      <td>PG</td>\n",
       "      <td>1595823535</td>\n",
       "      <td>Nasuke GUEST House</td>\n",
       "    </tr>\n",
       "    <tr>\n",
       "      <th>2</th>\n",
       "      <td>Port Macquarie</td>\n",
       "      <td>-31.43</td>\n",
       "      <td>152.92</td>\n",
       "      <td>71.01</td>\n",
       "      <td>52</td>\n",
       "      <td>48</td>\n",
       "      <td>3.00</td>\n",
       "      <td>AU</td>\n",
       "      <td>1595823374</td>\n",
       "      <td>Sails Port Macquarie by Rydges</td>\n",
       "    </tr>\n",
       "    <tr>\n",
       "      <th>3</th>\n",
       "      <td>Manicoré</td>\n",
       "      <td>-5.81</td>\n",
       "      <td>-61.30</td>\n",
       "      <td>75.90</td>\n",
       "      <td>64</td>\n",
       "      <td>24</td>\n",
       "      <td>1.77</td>\n",
       "      <td>BR</td>\n",
       "      <td>1595823561</td>\n",
       "      <td>Hotel Durval</td>\n",
       "    </tr>\n",
       "    <tr>\n",
       "      <th>4</th>\n",
       "      <td>Saint Anthony</td>\n",
       "      <td>45.02</td>\n",
       "      <td>-93.22</td>\n",
       "      <td>73.40</td>\n",
       "      <td>56</td>\n",
       "      <td>1</td>\n",
       "      <td>10.29</td>\n",
       "      <td>US</td>\n",
       "      <td>1595823566</td>\n",
       "      <td>Hyatt Centric Downtown Minneapolis</td>\n",
       "    </tr>\n",
       "    <tr>\n",
       "      <th>5</th>\n",
       "      <td>Barvinkove</td>\n",
       "      <td>48.91</td>\n",
       "      <td>37.02</td>\n",
       "      <td>70.79</td>\n",
       "      <td>51</td>\n",
       "      <td>94</td>\n",
       "      <td>11.01</td>\n",
       "      <td>UA</td>\n",
       "      <td>1595823567</td>\n",
       "      <td>Khostel \"Fortetsya\"</td>\n",
       "    </tr>\n",
       "    <tr>\n",
       "      <th>6</th>\n",
       "      <td>Altamira</td>\n",
       "      <td>-3.20</td>\n",
       "      <td>-52.21</td>\n",
       "      <td>77.29</td>\n",
       "      <td>59</td>\n",
       "      <td>58</td>\n",
       "      <td>2.44</td>\n",
       "      <td>BR</td>\n",
       "      <td>1595823577</td>\n",
       "      <td>Xingu Praia Hotel</td>\n",
       "    </tr>\n",
       "    <tr>\n",
       "      <th>7</th>\n",
       "      <td>Novo Aripuanã</td>\n",
       "      <td>-5.12</td>\n",
       "      <td>-60.38</td>\n",
       "      <td>74.91</td>\n",
       "      <td>64</td>\n",
       "      <td>1</td>\n",
       "      <td>0.34</td>\n",
       "      <td>BR</td>\n",
       "      <td>1595823592</td>\n",
       "      <td>Hotel Tio Zé</td>\n",
       "    </tr>\n",
       "    <tr>\n",
       "      <th>8</th>\n",
       "      <td>Ben Gardane</td>\n",
       "      <td>33.14</td>\n",
       "      <td>11.22</td>\n",
       "      <td>74.28</td>\n",
       "      <td>63</td>\n",
       "      <td>0</td>\n",
       "      <td>2.64</td>\n",
       "      <td>TN</td>\n",
       "      <td>1595823609</td>\n",
       "      <td>Hôtel Palace</td>\n",
       "    </tr>\n",
       "    <tr>\n",
       "      <th>9</th>\n",
       "      <td>Thunder Bay</td>\n",
       "      <td>48.40</td>\n",
       "      <td>-89.32</td>\n",
       "      <td>71.60</td>\n",
       "      <td>56</td>\n",
       "      <td>5</td>\n",
       "      <td>10.29</td>\n",
       "      <td>CA</td>\n",
       "      <td>1595823618</td>\n",
       "      <td>Hampton Inn &amp; Suites by Hilton Thunder Bay</td>\n",
       "    </tr>\n",
       "  </tbody>\n",
       "</table>\n",
       "</div>"
      ],
      "text/plain": [
       "             City    Lat     Lng  Max Temp  Humidity  Cloudiness  Wind Speed  \\\n",
       "0    Belaya Glina  46.07   40.86     71.20        59          58       12.35   \n",
       "1        Kainantu  -6.29  145.87     74.70        61          28        5.28   \n",
       "2  Port Macquarie -31.43  152.92     71.01        52          48        3.00   \n",
       "3        Manicoré  -5.81  -61.30     75.90        64          24        1.77   \n",
       "4   Saint Anthony  45.02  -93.22     73.40        56           1       10.29   \n",
       "5      Barvinkove  48.91   37.02     70.79        51          94       11.01   \n",
       "6        Altamira  -3.20  -52.21     77.29        59          58        2.44   \n",
       "7   Novo Aripuanã  -5.12  -60.38     74.91        64           1        0.34   \n",
       "8     Ben Gardane  33.14   11.22     74.28        63           0        2.64   \n",
       "9     Thunder Bay  48.40  -89.32     71.60        56           5       10.29   \n",
       "\n",
       "  Country        Date                                  Hotel Name  \n",
       "0      RU  1595823531                                        Niva  \n",
       "1      PG  1595823535                          Nasuke GUEST House  \n",
       "2      AU  1595823374              Sails Port Macquarie by Rydges  \n",
       "3      BR  1595823561                                Hotel Durval  \n",
       "4      US  1595823566          Hyatt Centric Downtown Minneapolis  \n",
       "5      UA  1595823567                         Khostel \"Fortetsya\"  \n",
       "6      BR  1595823577                           Xingu Praia Hotel  \n",
       "7      BR  1595823592                                Hotel Tio Zé  \n",
       "8      TN  1595823609                                Hôtel Palace  \n",
       "9      CA  1595823618  Hampton Inn & Suites by Hilton Thunder Bay  "
      ]
     },
     "execution_count": 114,
     "metadata": {},
     "output_type": "execute_result"
    }
   ],
   "source": [
    "hotel_df = hotel_df.reset_index(drop = True)\n",
    "hotel_df"
   ]
  },
  {
   "cell_type": "code",
   "execution_count": 111,
   "metadata": {},
   "outputs": [],
   "source": [
    "# NOTE: Do not change any of the code in this cell\n",
    "\n",
    "# Using the template add the hotel marks to the heatmap\n",
    "info_box_template = \"\"\"\n",
    "<dl>\n",
    "<dt>Name</dt><dd>{Hotel Name}</dd>\n",
    "<dt>City</dt><dd>{City}</dd>\n",
    "<dt>Country</dt><dd>{Country}</dd>\n",
    "</dl>\n",
    "\"\"\"\n",
    "# Store the DataFrame Row\n",
    "# NOTE: be sure to update with your DataFrame name\n",
    "hotel_info = [info_box_template.format(**row) for index, row in hotel_df.iterrows()]\n",
    "locations = hotel_df[[\"Lat\", \"Lng\"]]"
   ]
  },
  {
   "cell_type": "code",
   "execution_count": 113,
   "metadata": {},
   "outputs": [
    {
     "data": {
      "application/vnd.jupyter.widget-view+json": {
       "model_id": "4d3d3699037a4263b5152bc71cae23e0",
       "version_major": 2,
       "version_minor": 0
      },
      "text/plain": [
       "Figure(layout=FigureLayout(height='420px'))"
      ]
     },
     "metadata": {},
     "output_type": "display_data"
    }
   ],
   "source": [
    "# Add marker layer ontop of heat map\n",
    "marker_layer = gmaps.marker_layer(locations, info_box_content=hotel_info)\n",
    "fig.add_layer(marker_layer)\n",
    "\n",
    "# Display figure\n",
    "\n",
    "fig"
   ]
  },
  {
   "cell_type": "code",
   "execution_count": null,
   "metadata": {},
   "outputs": [],
   "source": []
  }
 ],
 "metadata": {
  "kernelspec": {
   "display_name": "Python 3",
   "language": "python",
   "name": "python3"
  },
  "language_info": {
   "codemirror_mode": {
    "name": "ipython",
    "version": 3
   },
   "file_extension": ".py",
   "mimetype": "text/x-python",
   "name": "python",
   "nbconvert_exporter": "python",
   "pygments_lexer": "ipython3",
   "version": "3.7.6"
  },
  "latex_envs": {
   "LaTeX_envs_menu_present": true,
   "autoclose": false,
   "autocomplete": true,
   "bibliofile": "biblio.bib",
   "cite_by": "apalike",
   "current_citInitial": 1,
   "eqLabelWithNumbers": true,
   "eqNumInitial": 1,
   "hotkeys": {
    "equation": "Ctrl-E",
    "itemize": "Ctrl-I"
   },
   "labels_anchors": false,
   "latex_user_defs": false,
   "report_style_numbering": false,
   "user_envs_cfg": false
  }
 },
 "nbformat": 4,
 "nbformat_minor": 2
}
